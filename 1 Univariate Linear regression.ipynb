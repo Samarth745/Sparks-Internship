{
 "cells": [
  {
   "cell_type": "markdown",
   "id": "ecba0396",
   "metadata": {},
   "source": [
    "## Getting Data"
   ]
  },
  {
   "cell_type": "code",
   "execution_count": 1,
   "id": "95b583a4",
   "metadata": {},
   "outputs": [],
   "source": [
    "X = [2.5,21,5.1,47,3.2,27,8.5,75,3.5,30,1.5,20,9.2,88,5.5,60,8.3,81,2.7,25,7.7,85,5.9,62,4.5,41,3.3,42,1.1,17,8.9,95,2.5,30,1.9,24,6.1,67,7.4,69,2.7,30,4.8,54,3.8,35,6.9,76,7.8,86]"
   ]
  },
  {
   "cell_type": "markdown",
   "id": "190a2dd6",
   "metadata": {},
   "source": [
    "### Note that we have coppied the data and pasted it in List X\n",
    "### The values in odd no of places contains hours of study and values in even no of places contains marks obtained"
   ]
  },
  {
   "cell_type": "markdown",
   "id": "8eb95064",
   "metadata": {},
   "source": [
    "##### Creating Two Lists with independent variable as hours of study and dependent variable as marks"
   ]
  },
  {
   "cell_type": "code",
   "execution_count": 7,
   "id": "438cf8aa",
   "metadata": {},
   "outputs": [],
   "source": [
    "ind_var = []\n",
    "dep_var = []\n",
    "for i in range (0,len(X)):\n",
    "    if i%2==0:\n",
    "        ind_var.append(X[i])\n",
    "    else:\n",
    "        dep_var.append(X[i])"
   ]
  },
  {
   "cell_type": "code",
   "execution_count": 24,
   "id": "00c15283",
   "metadata": {},
   "outputs": [
    {
     "name": "stdout",
     "output_type": "stream",
     "text": [
      "All rows are classified properly\n"
     ]
    }
   ],
   "source": [
    "print(\"All rows are classified properly\") if len(X)-len(dep_var)-len(ind_var)==0 else print(\"Not classified\")"
   ]
  },
  {
   "cell_type": "code",
   "execution_count": 26,
   "id": "74db6207",
   "metadata": {
    "scrolled": true
   },
   "outputs": [
    {
     "name": "stdout",
     "output_type": "stream",
     "text": [
      "Indipendent variable are 25 and dependent variable are 25\n"
     ]
    }
   ],
   "source": [
    "print(\"Indipendent variable are %i and dependent variable are %i\"%(len(ind_var),len(dep_var)))"
   ]
  },
  {
   "cell_type": "markdown",
   "id": "ec153ca8",
   "metadata": {},
   "source": [
    "### Check the distribution of plot to understand relationship"
   ]
  },
  {
   "cell_type": "code",
   "execution_count": 25,
   "id": "6aaac241",
   "metadata": {
    "scrolled": true
   },
   "outputs": [
    {
     "data": {
      "text/plain": [
       "<AxesSubplot:>"
      ]
     },
     "execution_count": 25,
     "metadata": {},
     "output_type": "execute_result"
    },
    {
     "data": {
      "image/png": "[encoded data removed]",
      "text/plain": [
       "<Figure size 432x288 with 1 Axes>"
      ]
     },
     "metadata": {
      "needs_background": "light"
     },
     "output_type": "display_data"
    }
   ],
   "source": [
    "import seaborn as sns\n",
    "sns.scatterplot(x=ind_var,y=dep_var)"
   ]
  },
  {
   "cell_type": "markdown",
   "id": "3d8771df",
   "metadata": {},
   "source": [
    "## As we can see there is a Linear relationship between two variables"
   ]
  },
  {
   "attachments": {},
   "cell_type": "markdown",
   "id": "4bbaeb30",
   "metadata": {},
   "source": [
    "Now we can either use Gradient descent or use the formula to find regression Coefficient. \n",
    "Since the Data is Small we can use the given formula which will give us more accuracy\n",
    "\n",
    "For a linear line y=mx+c in 2 dimensional plane the coefficent are given by \n",
    "m = SS_xy/SS_xx\n",
    "c = avg(y) - m*avg(x)\n",
    "Where SS_ab = sumation(ba) - n*avg(y)*avg(x)\n",
    "To derive these coeeficient we can minimize the error term (y-pred - y-actual)^2 by differentiating and equating to 0\n"
   ]
  },
  {
   "cell_type": "code",
   "execution_count": 37,
   "id": "723d2ca6",
   "metadata": {},
   "outputs": [],
   "source": [
    "## Function to estimate coefficient\n",
    "import numpy as np\n",
    "\n",
    "def estimate_coef(x, y):\n",
    "    x=np.array(ind_var)\n",
    "    y=np.array(dep_var)\n",
    "    # number of observations/points\n",
    "    n = np.size(x)\n",
    "  \n",
    "    #mean of x and y vector\n",
    "    avg_x = np.mean(x)\n",
    "    avg_y = np.mean(y)\n",
    "  \n",
    "    #calculating cross-deviation and deviation about x\n",
    "    SS_xy = np.sum(y*x) - n*avg_y*avg_x\n",
    "    SS_xx = np.sum(x*x) - n*avg_x*avg_x\n",
    "  \n",
    "    # calculating regression coefficients\n",
    "    m = SS_xy / SS_xx\n",
    "    c = avg_y - m*avg_x\n",
    "  \n",
    "    return (m,c)"
   ]
  },
  {
   "cell_type": "code",
   "execution_count": 44,
   "id": "559ad92e",
   "metadata": {},
   "outputs": [],
   "source": [
    "m = estimate_coef(ind_var,dep_var)[0]\n",
    "c = estimate_coef(ind_var,dep_var)[1]"
   ]
  },
  {
   "cell_type": "code",
   "execution_count": 48,
   "id": "b0d75ab2",
   "metadata": {
    "scrolled": true
   },
   "outputs": [
    {
     "data": {
      "text/plain": [
       "array([26.92318188, 52.3402707 , 33.76624426, 85.57800223, 36.69898527,\n",
       "       17.14737849, 92.4210646 , 56.25059205, 83.62284155, 28.87834256,\n",
       "       77.75735951, 60.16091341, 46.47478866, 34.74382459, 13.23705714,\n",
       "       89.48832358, 26.92318188, 21.05769985, 62.11607409, 74.8246185 ,\n",
       "       28.87834256, 49.40752968, 39.63172629, 69.9367168 , 78.73493985])"
      ]
     },
     "execution_count": 48,
     "metadata": {},
     "output_type": "execute_result"
    }
   ],
   "source": [
    "y_pred = m*np.array(ind_var) + np.array(c)\n",
    "y_pred"
   ]
  },
  {
   "cell_type": "markdown",
   "id": "fd123933",
   "metadata": {},
   "source": [
    "#### Plotting the line and scattered points as well as R2 Score"
   ]
  },
  {
   "cell_type": "code",
   "execution_count": 87,
   "id": "98cc1b1d",
   "metadata": {},
   "outputs": [
    {
     "name": "stdout",
     "output_type": "stream",
     "text": [
      "R square value of the coefficent is 0.952948\n"
     ]
    },
    {
     "data": {
      "image/png": "[encoded data removed]",
      "text/plain": [
       "<Figure size 432x288 with 1 Axes>"
      ]
     },
     "metadata": {
      "needs_background": "light"
     },
     "output_type": "display_data"
    }
   ],
   "source": [
    "import matplotlib.pyplot as plt\n",
    "\n",
    "plt.plot(ind_var, y_pred, color = \"g\")\n",
    "plt.scatter(ind_var, dep_var)\n",
    "plt.title('Regression Line')\n",
    "corr_matrix = np.corrcoef(dep_var, y_pred)\n",
    "corr = corr_matrix[0,1]\n",
    "R_sq = corr**2\n",
    "R_sq\n",
    "print(\"R square value of the coefficent is %f\"%R_sq)"
   ]
  },
  {
   "cell_type": "markdown",
   "id": "d0cebe41",
   "metadata": {},
   "source": [
    "### Residual Plot"
   ]
  },
  {
   "cell_type": "code",
   "execution_count": 58,
   "id": "1061f310",
   "metadata": {},
   "outputs": [
    {
     "data": {
      "text/plain": [
       "<matplotlib.collections.PathCollection at 0x21a69ce3f40>"
      ]
     },
     "execution_count": 58,
     "metadata": {},
     "output_type": "execute_result"
    },
    {
     "data": {
      "image/png": "[encoded data removed]",
      "text/plain": [
       "<Figure size 432x288 with 1 Axes>"
      ]
     },
     "metadata": {
      "needs_background": "light"
     },
     "output_type": "display_data"
    }
   ],
   "source": [
    "from sklearn import datasets, linear_model, metrics\n",
    "\n",
    "plt.scatter(ind_var, dep_var - y_pred,\n",
    "            color = \"blue\", s = 10, label = 'residuals ')"
   ]
  },
  {
   "cell_type": "markdown",
   "id": "de999ccd",
   "metadata": {},
   "source": [
    "## Predict the marks based on no of hours "
   ]
  },
  {
   "cell_type": "code",
   "execution_count": 99,
   "id": "e8dde02f",
   "metadata": {},
   "outputs": [
    {
     "name": "stdout",
     "output_type": "stream",
     "text": [
      "Enter the hours of study9.25\n",
      "Score of a person who has studied for 9.250000 hours is 92.909855\n"
     ]
    }
   ],
   "source": [
    "a=float(input(\"Enter the hours of study\"))\n",
    "print(\"Score of a person who has studied for %f hours is %f\"%(x,m*a+c))\n",
    "\n"
   ]
  }
 ],
 "metadata": {
  "kernelspec": {
   "display_name": "Python 3",
   "language": "python",
   "name": "python3"
  },
  "language_info": {
   "codemirror_mode": {
    "name": "ipython",
    "version": 3
   },
   "file_extension": ".py",
   "mimetype": "text/x-python",
   "name": "python",
   "nbconvert_exporter": "python",
   "pygments_lexer": "ipython3",
   "version": "3.8.8"
  }
 },
 "nbformat": 4,
 "nbformat_minor": 5
}
